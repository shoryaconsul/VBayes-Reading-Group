{
 "cells": [
  {
   "cell_type": "code",
   "execution_count": 1,
   "metadata": {},
   "outputs": [],
   "source": [
    "import numpy as np\n",
    "import matplotlib.pyplot as plt\n",
    "import pandas as pd\n",
    "from scipy.stats import multivariate_normal as mnormal\n",
    "from scipy.stats import invwishart, wishart\n",
    "from scipy.special import logsumexp\n"
   ]
  },
  {
   "cell_type": "markdown",
   "metadata": {},
   "source": [
    "# Start by loading the Old Faithful dataset\n",
    "\n",
    "You can find it at https://www.kaggle.com/datasets/janithwanni/old-faithful\n",
    "    \n",
    "Save as 'faithful.csv'"
   ]
  },
  {
   "cell_type": "code",
   "execution_count": 2,
   "metadata": {},
   "outputs": [
    {
     "data": {
      "text/html": [
       "<div>\n",
       "<style scoped>\n",
       "    .dataframe tbody tr th:only-of-type {\n",
       "        vertical-align: middle;\n",
       "    }\n",
       "\n",
       "    .dataframe tbody tr th {\n",
       "        vertical-align: top;\n",
       "    }\n",
       "\n",
       "    .dataframe thead th {\n",
       "        text-align: right;\n",
       "    }\n",
       "</style>\n",
       "<table border=\"1\" class=\"dataframe\">\n",
       "  <thead>\n",
       "    <tr style=\"text-align: right;\">\n",
       "      <th></th>\n",
       "      <th>eruptions</th>\n",
       "      <th>waiting</th>\n",
       "    </tr>\n",
       "  </thead>\n",
       "  <tbody>\n",
       "    <tr>\n",
       "      <th>0</th>\n",
       "      <td>3.600</td>\n",
       "      <td>79</td>\n",
       "    </tr>\n",
       "    <tr>\n",
       "      <th>1</th>\n",
       "      <td>1.800</td>\n",
       "      <td>54</td>\n",
       "    </tr>\n",
       "    <tr>\n",
       "      <th>2</th>\n",
       "      <td>3.333</td>\n",
       "      <td>74</td>\n",
       "    </tr>\n",
       "    <tr>\n",
       "      <th>3</th>\n",
       "      <td>2.283</td>\n",
       "      <td>62</td>\n",
       "    </tr>\n",
       "    <tr>\n",
       "      <th>4</th>\n",
       "      <td>4.533</td>\n",
       "      <td>85</td>\n",
       "    </tr>\n",
       "  </tbody>\n",
       "</table>\n",
       "</div>"
      ],
      "text/plain": [
       "   eruptions  waiting\n",
       "0      3.600       79\n",
       "1      1.800       54\n",
       "2      3.333       74\n",
       "3      2.283       62\n",
       "4      4.533       85"
      ]
     },
     "execution_count": 2,
     "metadata": {},
     "output_type": "execute_result"
    }
   ],
   "source": [
    "df = pd.read_csv('faithful.csv')\n",
    "del df['Unnamed: 0']\n",
    "df.head()"
   ]
  },
  {
   "cell_type": "markdown",
   "metadata": {},
   "source": [
    "## Let's take a look at what the data looks like"
   ]
  },
  {
   "cell_type": "code",
   "execution_count": 3,
   "metadata": {},
   "outputs": [
    {
     "data": {
      "image/png": "[encoded data removed]",
      "text/plain": [
       "<Figure size 432x288 with 1 Axes>"
      ]
     },
     "metadata": {
      "needs_background": "light"
     },
     "output_type": "display_data"
    }
   ],
   "source": [
    "plt.scatter(df['eruptions'], df['waiting'])\n",
    "plt.show()"
   ]
  },
  {
   "cell_type": "markdown",
   "metadata": {},
   "source": [
    "## To make it easier when we come to specify priors, let's standardize"
   ]
  },
  {
   "cell_type": "code",
   "execution_count": 4,
   "metadata": {},
   "outputs": [],
   "source": [
    "data = df.to_numpy() # I don't like working with dataframes!\n",
    "data_standardized = data - np.expand_dims(np.mean(data, 0), 0)\n",
    "data_standardized = data_standardized / np.expand_dims(np.std(data, 0), 0)\n"
   ]
  },
  {
   "cell_type": "markdown",
   "metadata": {},
   "source": [
    "Let's start by implementing the EM algorithm.\n",
    "\n",
    "Let $K$ be the number of clusters; $\\gamma_{ic}$ be the \"responsibility\" of cluster $c$ for observation $i$; and $\\pi_c$ be the cluster probability (which we assume fixed... how can we change that to be learned?).\n",
    "\n",
    "Let $\\mu_c$ and $\\Sigma_c$ be the mean and covariance of the $c$th cluster, respectively\n",
    "\n",
    "The E-step calculates the responsibilities, given the means and covariances:\n",
    "\n",
    "$$\\gamma_{ic} = \\frac{\\pi_c N(x_i \\ | \\ \\mu_c,\\Sigma_c)}{\\sum_{k=1}^K \\pi_k N(x_i \\ | \\ \\mu_k,\\Sigma_k)}$$ where $N(\\boldsymbol{x} \\ | \\ \\boldsymbol{\\mu},\\boldsymbol{\\Sigma})$ describes the mulitvariate Gaussian with:\n",
    "\n",
    "The M-step calculates the mean and covariance that maximize the overall likelihood, given the responsibilities. In this case, this is just the weighted mean and covariance\n",
    "\n",
    "$$\\mu_c = \\frac{\\sum_{i=1}^N \\gamma_{i,c}x_i}{\\sum_{i=1}^N \\gamma_{i,c}} \\qquad \\qquad \\Sigma_c = \\frac{\\sum_{i=1}^N \\gamma_{i,c} (x_i-\\mu_c) (x_i-\\mu_c)^T}{\\sum_{i=1}^N\\gamma_{i,c}}$$"
   ]
  },
  {
   "cell_type": "code",
   "execution_count": 5,
   "metadata": {},
   "outputs": [],
   "source": [
    "\n",
    "# EM algorithm\n",
    "\n",
    "def initialize_cluster_means(data, num_clusters, fixed_cov=None):\n",
    "    # initialize the clusters, vaguely centered on the data\n",
    "    N, D = data.shape\n",
    "    means = {}\n",
    "    covs = {}\n",
    "    data_mean = np.mean(data, 0)\n",
    "    data_cov = np.cov(data.T)\n",
    "    for cluster in range(num_clusters):\n",
    "        means[cluster] = np.random.multivariate_normal(data_mean, data_cov)\n",
    "        if fixed_cov is None:\n",
    "            covs[cluster] = invwishart.rvs(df=D+1, scale=data_cov)\n",
    "        else:\n",
    "            covs[cluster] = fixed_cov\n",
    "    return means, covs\n",
    "\n",
    "def EM_algorithm(data, num_clusters, pie=None, num_iters=100, fixed_cov=None):\n",
    "    # can input a fixed covariance matrix in fixed_cov\n",
    "    N, D = data.shape\n",
    "    \n",
    "    # if unspecified, assume fixed, uniform probabilities (can you change this to be learnable?)\n",
    "    if pie is None:\n",
    "        pie = np.ones(num_clusters)/num_clusters\n",
    "    else:\n",
    "        assert len(pie) == num_clusters\n",
    "        assert np.sum(pie) == 1\n",
    "        \n",
    "    # initialize the clusters, vaguely centered on the data\n",
    "    means, covs = initialize_cluster_means(data, num_clusters, fixed_cov)\n",
    "    \n",
    "    log_likelihoods = []\n",
    "    \n",
    "    for i in range(num_iters):\n",
    "        # E step\n",
    "        # calculate expected labels, given means and covariances\n",
    "        log_gammas = np.zeros((N, num_clusters)) # I am working in log probabilities to avoid overflow issues\n",
    "        for cluster in range(num_clusters):\n",
    "            log_gammas[:, cluster] = mnormal.logpdf(data, means[cluster], covs[cluster]) + np.log(pie[cluster])\n",
    "\n",
    "        # normalize responsibilities in log space\n",
    "        ll = logsumexp(log_gammas, 1)\n",
    "        log_gammas = log_gammas - np.expand_dims(ll, 1)\n",
    "        # logsumexp is a super useful function if you haven't used it before!!\n",
    "        gammas = np.exp(log_gammas)\n",
    "        log_likelihoods.append(np.mean(ll))\n",
    "        assert np.all(np.isfinite(gammas)) # just in case! But working in log space should have avoided this\n",
    "        \n",
    "        # M step\n",
    "        cluster_gamma_totals = np.sum(gammas, 0)\n",
    "\n",
    "        for cluster in range(num_clusters):\n",
    "            means[cluster] = np.dot(gammas[:, cluster], data) / cluster_gamma_totals[cluster]\n",
    "            centered_data = data - np.expand_dims(means[cluster], 0) # x-mu\n",
    "            if fixed_cov is None:\n",
    "                covs[cluster] = np.dot(centered_data.T, np.expand_dims(gammas[:, cluster], 1) * centered_data) \n",
    "                covs[cluster] /= cluster_gamma_totals[cluster]\n",
    "          \n",
    "    return means, covs, gammas, log_likelihoods\n",
    "\n",
    "def plot_clusters(data, probs, dims=[0,1]):\n",
    "    hard_assignments = np.argmax(probs, 1) # get the most likely cluster\n",
    "    num_clusters = probs.shape[1]\n",
    "    for cluster in range(num_clusters):\n",
    "        plt.scatter(data[hard_assignments==cluster, dims[0]], data[hard_assignments==cluster, dims[1]])\n",
    "        \n",
    "    plt.show()"
   ]
  },
  {
   "cell_type": "markdown",
   "metadata": {},
   "source": [
    "## You can either run with fixed covariance..."
   ]
  },
  {
   "cell_type": "code",
   "execution_count": 6,
   "metadata": {},
   "outputs": [
    {
     "data": {
      "image/png": "[encoded data removed]",
      "text/plain": [
       "<Figure size 432x288 with 1 Axes>"
      ]
     },
     "metadata": {
      "needs_background": "light"
     },
     "output_type": "display_data"
    }
   ],
   "source": [
    "means, covs, gammas, log_likelihoods = EM_algorithm(data, 2, fixed_cov=np.eye(2))\n",
    "plot_clusters(data, gammas)"
   ]
  },
  {
   "cell_type": "markdown",
   "metadata": {},
   "source": [
    "## Or learn the covariance"
   ]
  },
  {
   "cell_type": "code",
   "execution_count": 7,
   "metadata": {},
   "outputs": [
    {
     "data": {
      "image/png": "[encoded data removed]",
      "text/plain": [
       "<Figure size 432x288 with 1 Axes>"
      ]
     },
     "metadata": {
      "needs_background": "light"
     },
     "output_type": "display_data"
    }
   ],
   "source": [
    "means, covs, gammas, log_likelihoods = EM_algorithm(data, 2)\n",
    "plot_clusters(data, gammas)"
   ]
  },
  {
   "cell_type": "markdown",
   "metadata": {},
   "source": [
    "## Here, the number of clusters seems clear, but we can vary it if we want"
   ]
  },
  {
   "cell_type": "code",
   "execution_count": 8,
   "metadata": {},
   "outputs": [
    {
     "data": {
      "image/png": "[encoded data removed]",
      "text/plain": [
       "<Figure size 432x288 with 1 Axes>"
      ]
     },
     "metadata": {
      "needs_background": "light"
     },
     "output_type": "display_data"
    }
   ],
   "source": [
    "means, covs, gammas, log_likelihoods = EM_algorithm(data, 3)\n",
    "plot_clusters(data, gammas)"
   ]
  },
  {
   "cell_type": "markdown",
   "metadata": {},
   "source": [
    "# We can plot the log likelihood over time to see how we are doing"
   ]
  },
  {
   "cell_type": "code",
   "execution_count": 11,
   "metadata": {},
   "outputs": [
    {
     "data": {
      "image/png": "[encoded data removed]",
      "text/plain": [
       "<Figure size 432x288 with 1 Axes>"
      ]
     },
     "metadata": {
      "needs_background": "light"
     },
     "output_type": "display_data"
    }
   ],
   "source": [
    "plt.plot(log_likelihoods)\n",
    "plt.xlabel('iteration')\n",
    "plt.ylabel('average log likelihood')\n",
    "plt.show()"
   ]
  },
  {
   "cell_type": "markdown",
   "metadata": {},
   "source": [
    "# Now let's do VBayes!\n",
    "\n",
    "We went through the derivation for 1d data with unit variance in the paper...\n",
    "\n",
    "Let's see if you can expand to 2d data!\n",
    "\n",
    "Let's start by assuming fixed spherical covariances, so that:\n",
    "\n",
    "$$\\begin{aligned}\n",
    "\\mu_i \\sim& N(\\mu_0, \\sigma_0^2 I)\\\\\n",
    "z_i \\sim& \\pi\\\\\n",
    "x_i \\sim& N(\\mu_{z_i}, \\sigma_x^2 I)\n",
    "\\end{aligned}$$\n",
    "\n",
    "\n"
   ]
  },
  {
   "cell_type": "markdown",
   "metadata": {},
   "source": [
    "Let's start by writing out the terms of the log joint:\n",
    "\n",
    "$$\n",
    "\\log p(x, \\{z_i\\}, \\{mu_c\\}) = \\sum_i \\left(\\log p(x_i | z_i, \\{mu_c\\}, \\sigma_x^2) + \\log p(z_i | \\pi) \\right)+ \\sum_c \\left(\\log p(\\mu_c | \\mu_0, \\sigma_0^2) \\right)$$\n",
    "\n",
    "Fill in the individual terms below:\n",
    "\n",
    "$$\\begin{aligned}\n",
    "\\log p(x_i | z_i, \\{\\mu_c\\}, \\sigma_x^2) =& \\\\\n",
    "\\log p(z_i | \\pi) =& \\\\\n",
    "\\log p(\\mu_c | \\mu_0, \\sigma_0^2) =& \n",
    "\\end{aligned}$$\n"
   ]
  },
  {
   "cell_type": "markdown",
   "metadata": {},
   "source": [
    "## Calculating the updates\n",
    "\n",
    "We know $q^*(z_i) \\propto \\exp\\left\\{\\mathbb{E}\\left[\\log p(z_i, \\{x_i\\}, \\{z_j: j\\neq i\\}, \\{\\mu_c\\})\\right]\\right\\}$, where the expectation is taken wrt q of all the other variables.\n",
    "\n",
    "We know that most of the terms are constant wrt $z_i$, allowing us to write:\n",
    "\n",
    " $$q^*(z_i) \\propto \\exp\\left\\{\\mathbb{E}\\left[\\log p(x_i | z_i, \\{\\mu_c\\}, \\sigma_x^2) + \\log p(z_i|pi)\\right]\\right\\} = \\exp\\left\\{z_i^T\\log \\pi_{z_i} + \\mathbb{E}\\left[\\log p(x_i | z_i, \\{\\mu_c\\}, \\sigma_x^2)\\right]\\right\\}$$\n",
    " \n",
    "Here, I am assuming $z_i$ is a length-$K$ vector. Note we can take the $\\log p(z_i|\\pi)$ out of the expectation, since it isn't affected by any of our variational distributions\n",
    "\n",
    "Based on your derivations above, fill in the following:\n",
    "\n",
    "$$q^*(z_i) \\propto \\exp \\left\\{ \\right\\}$$\n",
    "\n",
    "What distribution does that imply?? (If it doesn't look like a standard distribution, you've probably maede a mistake somewhere!)\n",
    "\n",
    "\n",
    "\n",
    "(should look similar to what we saw in the paper, but now we have $\\pi$ not necessarily symmetric, and multivariate $\\mu$)\n"
   ]
  },
  {
   "cell_type": "markdown",
   "metadata": {},
   "source": [
    "We know $q^*(\\mu_c) \\propto \\exp\\left\\{\\mathbb{E}\\left[\\log p(\\mu_c, \\{x_i, z_i\\}, \\{z_j: j\\neq c\\}\\right]\\right\\}$, where the expectation is taken wrt q of all the other variables.\n",
    "\n",
    "This gives us... (fill in)\n",
    "\n",
    " $$q^*(\\mu_c) \\propto \\exp\\left\\{\\right\\}$$\n",
    " \n",
    "What distribution does that imply for the $\\mu_c$? (again, should be fairly similar to what we saw in the paper)"
   ]
  },
  {
   "cell_type": "markdown",
   "metadata": {},
   "source": [
    "## Spoilers!!\n",
    "\n",
    "OK, I'm going to assume you have something that you can write in the form:\n",
    "\n",
    "$$q^*(z_i) = \\text{Categorical}(\\gamma_i) \\qquad \\qquad q^*(\\mu_c) = N(m_c, s_c^2 I)$$\n",
    "\n",
    "\n",
    "Now that we know the form of $q$, we can write out the whole ELBO (go ahead and fill it out below:\n",
    "\n",
    "$$ELBO = $$\n"
   ]
  },
  {
   "cell_type": "markdown",
   "metadata": {},
   "source": [
    "## OK let's write some code!!\n",
    "\n",
    "I've made a template below, fill in where it says \"TODO\""
   ]
  },
  {
   "cell_type": "code",
   "execution_count": null,
   "metadata": {},
   "outputs": [],
   "source": [
    "def VBayes_1(data, num_clusters=2, pie=None, mu0=[0., 0.], sig2_0=1., sig2_x=1., num_iters=100):\n",
    "\n",
    "    N, D = data.shape\n",
    "    \n",
    "    if pie is None:\n",
    "        pie = np.ones(num_clusters)/num_clusters\n",
    "    else:\n",
    "        assert len(pie) == num_clusters\n",
    "        assert np.sum(pie) == 1\n",
    "    \n",
    "    # some initializations\n",
    "    m = {} \n",
    "    s2 = {} \n",
    "    for cluster in range(num_clusters):\n",
    "        m[cluster] = np.random.normal(mu0, sig2_0)\n",
    "        s2[cluster] = np.random.rand()\n",
    "        \n",
    "    gammas = np.random.rand(N, num_clusters)\n",
    "    gammas = gammas / np.expand_dims(np.sum(gammas, 1), 1)\n",
    "    \n",
    "    \n",
    "    elbo = [] # \n",
    "    for i in range(num_iters):\n",
    "        # update the parameters of q(z) (peek at the E step for the EM algo if you get stuck implementing)\n",
    "        \n",
    "        gammas = TODO\n",
    "        \n",
    "        # update the parameters of q(\\mu_c) (peek at the M-step for the EM algo if you get stuck implementing)\n",
    "        for cluster in range(num_clusters):\n",
    "            m[cluster] = TODO\n",
    "            s2[cluster] = TODO\n",
    "            \n",
    "        # calculate the ELBO for tracking\n",
    "        \n",
    "        current_elbo = \n",
    "        elbo.append(TODO)\n",
    "        \n",
    "          \n",
    "    return m, s2, gammas, elbo"
   ]
  },
  {
   "cell_type": "markdown",
   "metadata": {},
   "source": [
    "# You can check it out on the data we used for the EM!\n",
    "\n",
    "* How does it compare with the EM output?\n",
    "* Try different priors: How do the choice of priors impact the outcome?"
   ]
  },
  {
   "cell_type": "code",
   "execution_count": null,
   "metadata": {},
   "outputs": [],
   "source": [
    "means, covs, gammas, elbos = VBayes_1(data_standardized, mu0=[0., 0.], sig2_0=1., sig2_x=1.)\n",
    "plot_clusters(data, gammas)"
   ]
  },
  {
   "cell_type": "code",
   "execution_count": null,
   "metadata": {},
   "outputs": [],
   "source": [
    "means, covs, gammas, elbos = VBayes_1_complete(data_standardized, mu0=[0., 0.], sig2_0=1., sig2_x=1.)"
   ]
  },
  {
   "cell_type": "markdown",
   "metadata": {},
   "source": [
    "## Sanity check -- is the ELBO going up over time?"
   ]
  },
  {
   "cell_type": "code",
   "execution_count": null,
   "metadata": {},
   "outputs": [],
   "source": [
    "plt.plot(log_likelihoods)\n",
    "plt.xlabel('iteration')\n",
    "plt.ylabel('average log likelihood')\n",
    "plt.show()"
   ]
  },
  {
   "cell_type": "markdown",
   "metadata": {},
   "source": [
    "## Let's look at a more complicated model!\n",
    "\n",
    "Let's try using a normal-Wishart prior on the means and precision matrices:\n",
    "\n",
    "$$p(\\mu_c, \\Lambda_c) = NW(\\mu_c, \\Lambda_c|\\mu_0, \\beta, W,  \\nu) = N\\left(\\mu_c| \\mu_0, (\\beta\\Lambda_c)^{-1}\\right)\\text{Wishart}(\\Lambda_c|W, \\nu)$$\n",
    "\n",
    "And a Dirichlet($\\alpha, \\dots, \\alpha)$ prior for $\\pi$\n",
    "\n",
    "\n",
    "To complete our generative model, we have:\n",
    "\n",
    "$$z_i \\sim \\pi \\qquad \\qquad x_i \\sim N(\\mu_{z_i}, \\Lambda_{z_i}^{-1})$$"
   ]
  },
  {
   "cell_type": "markdown",
   "metadata": {},
   "source": [
    "Let's start by writing out the terms of the log joint:\n",
    "\n",
    "$$\n",
    "\\log p(x, \\{z_i\\}, \\{mu_c, \\Lambda_c\\}, \\pi) = \\log p(x | \\{z_i\\}, \\{mu_c, \\Lambda_c\\}, \\pi) + \\sum_i \\left(\\log p(z_i | \\pi) \\right)+ \\sum_c \\left(\\log p(\\mu_c | \\mu_0, \\beta, \\Lambda_c) + \\log p(\\Lambda_c |W, \\nu)\\right) + \\log p(\\pi)$$\n",
    "\n",
    "\n",
    "Fill in the individual terms below:\n",
    "\n",
    "$$\\begin{aligned}\n",
    "\\log p(x | \\{z_i\\}, \\{mu_c, \\Lambda_c\\}, \\pi) =& \\\\\n",
    "\\log p(z_i | \\pi)  =& \\\\\n",
    "\\log p(\\mu_c | \\mu_0, \\beta, \\Lambda_c) =& \\\\\n",
    "\\log p(\\Lambda_c |W, \\nu) =& \\\\\n",
    "\\log p(\\pi) =&\\end{aligned}$$\n"
   ]
  },
  {
   "cell_type": "markdown",
   "metadata": {},
   "source": [
    "## Calculating the updates:\n",
    "\n",
    "We are going to use an approximation of the form $q(\\{z_i\\}, \\{\\mu_k, \\Lambda_k\\}) = \\prod_i q(z_i)\\prod_k q(\\mu_k,\\Lambda_k)$\n",
    "\n",
    "\n",
    "\n",
    "### $q^*(z_i)$\n",
    "This is going to be pretty similar to before! Except, we now need to take the expectation of $p(z_i|\\pi)$ wrt $q(\\pi)$\n",
    "\n",
    "So we have:\n",
    "\n",
    " $$q^*(z_i) \\propto \\exp\\left\\{\\mathbb{E}_{\\{q(\\mu_c, \\Lambda_c)\\}}\\left[\\log p(x_i | z_i, \\{\\mu_c\\}, \\{\\Lambda_c\\})\\right] + \\mathbb{E}_{q(\\pi)}\\left[\\log p(z_i|pi)\\right]\\right\\}$$\n",
    " \n",
    " You should be able to write this out as a function of $\\mathbb{E}_{\\{q(\\mu_c, \\Lambda_c)\\}}\\left[\\log | \\Lambda_c |\\right]$, $\\mathbb{E}_{q(\\mu_c, \\Lambda_c)}\\left[(x-\\mu_c)^T\\Lambda_c(x-\\mu_c)\\right]$ and $\\mathbb{E}_{q(\\pi)}\\log \\pi$...\n",
    " \n",
    "  $$q^*(z_i) \\propto TODO$$\n",
    "  \n",
    "  As before, it should look like a Categorical($\\gamma_i$), for some $\\gamma_i$! We can't yet calculate $\\mathbb{E}_{\\{q(\\mu_c, \\Lambda_c)\\}}\\left[\\log | \\Lambda_c |\\right]$ and $\\mathbb{E}_{q(\\pi)}\\log \\pi$ until we know the appropriate forms of $q$...\n",
    " \n",
    "\n",
    "### $q^*(\\pi)$\n",
    "\n",
    "We have:\n",
    "\n",
    " $$\\begin{aligned}\n",
    " q^*(\\pi) \\propto& \\exp\\left\\{\\mathbb{E}_{\\{q(z_i)\\}}\\left[\\sum_i\\log p(z_i|\\pi) + \\log p(\\pi)\\right]\\right\\}\\\\\n",
    " \\propto& TODO\n",
    " \\end{aligned}$$\n",
    " \n",
    " We can write this out fully in terms of the $\\gamma_i$ we used above, since we know $q(z_i)=\\text{Categorical}(\\gamma_i)$. It should look like a Dirichlet($\\tau$), for some $\\tau$!\n",
    " \n",
    " ### $q^*(\\mu_c, \\Lambda_c)$\n",
    " \n",
    "  $$q^*(\\mu_c, \\Lambda_c) \\propto \\exp\\left\\{\\mathbb{E}_{\\{q(z_i)\\}}\\left[\\log p(x_i | z_i, \\{\\mu_c\\}, \\{\\Lambda_c\\})\\right] + \\log p(\\mu_c, \\Lambda_c)\\right\\}$$\n",
    " \n",
    "\n",
    "Bit of a longer sum, but we can do it!\n",
    "\n",
    "$$q^*(\\mu_c) \\propto TODO$$\n",
    "\n",
    "You're probably guessing that this is going to correspond to a normal-Wishart($\\mu_c, \\Lambda_c|m_c, \\beta_c, W_c,  \\nu_c)$  distribution, and you'd be right. What are the parameters of this distribution?\n",
    "\n"
   ]
  },
  {
   "cell_type": "markdown",
   "metadata": {},
   "source": [
    "## Finish off by adding in $\\mathbb{E}_{\\{q(\\mu_c, \\Lambda_c)\\}}\\left[\\log | \\Lambda_c |\\right]$ and $\\mathbb{E}_{q(\\pi)}\\left[\\log \\pi\\right]$\n",
    "\n",
    "You've done a lot of math, so here's the results you need:\n",
    "\n",
    "* If $x\\sim \\text{Dirichlet}(\\alpha)$, then $\\mathbb{E}[\\log(x_k)] = \\psi(\\alpha_k) - \\psi(\\sum_j\\alpha_j)$, where $\\psi$ is the digamma function \n",
    "* If $\\Lambda \\sim \\text{Wishart}(W, \\nu)$ where $W$ is $D\\times D$, then $\\mathbb{E}\\left[\\log |\\Lambda|\\right] = \\psi_D\\left(\\frac{\\nu}{2}\\right) + D\\log(2) + \\log |W|$, where $\\psi_D$ is a multivariate digamma function"
   ]
  },
  {
   "cell_type": "markdown",
   "metadata": {},
   "source": [
    "## Now let's code it up!\n"
   ]
  },
  {
   "cell_type": "code",
   "execution_count": null,
   "metadata": {},
   "outputs": [],
   "source": [
    "def VBayes_2(data, num_clusters=2, alpha=1., mu0=[0., 0.], beta=1., nu=3, W=np.eye(2), num_iters=100):\n",
    "    # assuming symmetric dirichlet prior, alpha_k = alpha for all k\n",
    "    N, D = data.shape\n",
    "   \n",
    "    \n",
    "    # some initializations\n",
    "    \n",
    "    tau = np.ones(num_clusters)\n",
    "    gammas = np.random.rand(N, num_clusters)\n",
    "    gammas = gammas / np.expand_dims(np.sum(gammas, 1), 1)\n",
    "    \n",
    "    m_c = {} \n",
    "    beta_c = {}\n",
    "    W_c = {}\n",
    "    nu_c = {}\n",
    "    for cluster in range(num_clusters):\n",
    "        nu_c[cluster] = nu\n",
    "        W_c[cluster] = wishart.rvs(nu, W)\n",
    "        beta_c[cluster] = 1.\n",
    "        m_c[cluster] = np.random.multivariate_normal(mu0, W_c[cluster])\n",
    "\n",
    "    elbo = [] # \n",
    "    for i in range(num_iters):\n",
    "        # \n",
    "        \n",
    "        gammas = TODO\n",
    "        \n",
    "        tau = TODO\n",
    "        \n",
    "        for cluster in range(num_clusters):\n",
    "            beta_c[cluster] = TODO\n",
    "            m_c[cluster] = TODO\n",
    "            nu_c[cluster] = TODO\n",
    "            W_c[cluster] = TODO\n",
    "        \n",
    "        \n",
    "        elbo.append(TODO)\n",
    "        \n",
    "          \n",
    "    return gammas, tau, m_c, beta_c, W_c, nu_c, elbo"
   ]
  },
  {
   "cell_type": "code",
   "execution_count": null,
   "metadata": {},
   "outputs": [],
   "source": [
    "gammas, tau, m_c, beta_c, W_c, nu_c, elbo = VBayes_2(data_standardized, num_clusters=2, alpha=1., mu0=[0., 0.], beta=1., nu=3, W=np.eye(2))\n",
    "plot_clusters(data, gammas)"
   ]
  }
 ],
 "metadata": {
  "kernelspec": {
   "display_name": "pytorch",
   "language": "python",
   "name": "pytorch"
  },
  "language_info": {
   "codemirror_mode": {
    "name": "ipython",
    "version": 3
   },
   "file_extension": ".py",
   "mimetype": "text/x-python",
   "name": "python",
   "nbconvert_exporter": "python",
   "pygments_lexer": "ipython3",
   "version": "3.8.2"
  }
 },
 "nbformat": 4,
 "nbformat_minor": 4
}
