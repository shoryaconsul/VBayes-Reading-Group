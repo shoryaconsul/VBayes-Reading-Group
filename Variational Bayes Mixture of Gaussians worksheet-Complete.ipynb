{
 "cells": [
  {
   "cell_type": "code",
   "execution_count": 1,
   "metadata": {},
   "outputs": [],
   "source": [
    "import numpy as np\n",
    "import matplotlib.pyplot as plt\n",
    "import pandas as pd\n",
    "from scipy.stats import multivariate_normal as mnormal\n",
    "from scipy.stats import invwishart, wishart\n",
    "from scipy.special import logsumexp, digamma\n",
    "from numpy.linalg import slogdet"
   ]
  },
  {
   "cell_type": "markdown",
   "metadata": {},
   "source": [
    "# Start by loading the Old Faithful dataset\n",
    "\n",
    "You can find it at https://www.kaggle.com/datasets/janithwanni/old-faithful\n",
    "    \n",
    "Save as 'faithful.csv'"
   ]
  },
  {
   "cell_type": "code",
   "execution_count": 2,
   "metadata": {},
   "outputs": [
    {
     "data": {
      "text/html": [
       "<div>\n",
       "<style scoped>\n",
       "    .dataframe tbody tr th:only-of-type {\n",
       "        vertical-align: middle;\n",
       "    }\n",
       "\n",
       "    .dataframe tbody tr th {\n",
       "        vertical-align: top;\n",
       "    }\n",
       "\n",
       "    .dataframe thead th {\n",
       "        text-align: right;\n",
       "    }\n",
       "</style>\n",
       "<table border=\"1\" class=\"dataframe\">\n",
       "  <thead>\n",
       "    <tr style=\"text-align: right;\">\n",
       "      <th></th>\n",
       "      <th>eruptions</th>\n",
       "      <th>waiting</th>\n",
       "    </tr>\n",
       "  </thead>\n",
       "  <tbody>\n",
       "    <tr>\n",
       "      <th>0</th>\n",
       "      <td>3.600</td>\n",
       "      <td>79</td>\n",
       "    </tr>\n",
       "    <tr>\n",
       "      <th>1</th>\n",
       "      <td>1.800</td>\n",
       "      <td>54</td>\n",
       "    </tr>\n",
       "    <tr>\n",
       "      <th>2</th>\n",
       "      <td>3.333</td>\n",
       "      <td>74</td>\n",
       "    </tr>\n",
       "    <tr>\n",
       "      <th>3</th>\n",
       "      <td>2.283</td>\n",
       "      <td>62</td>\n",
       "    </tr>\n",
       "    <tr>\n",
       "      <th>4</th>\n",
       "      <td>4.533</td>\n",
       "      <td>85</td>\n",
       "    </tr>\n",
       "  </tbody>\n",
       "</table>\n",
       "</div>"
      ],
      "text/plain": [
       "   eruptions  waiting\n",
       "0      3.600       79\n",
       "1      1.800       54\n",
       "2      3.333       74\n",
       "3      2.283       62\n",
       "4      4.533       85"
      ]
     },
     "execution_count": 2,
     "metadata": {},
     "output_type": "execute_result"
    }
   ],
   "source": [
    "df = pd.read_csv('faithful.csv')\n",
    "del df['Unnamed: 0']\n",
    "df.head()"
   ]
  },
  {
   "cell_type": "markdown",
   "metadata": {},
   "source": [
    "## Let's take a look at what the data looks like"
   ]
  },
  {
   "cell_type": "code",
   "execution_count": 3,
   "metadata": {},
   "outputs": [
    {
     "data": {
      "image/png": "[encoded data removed]",
      "text/plain": [
       "<Figure size 432x288 with 1 Axes>"
      ]
     },
     "metadata": {
      "needs_background": "light"
     },
     "output_type": "display_data"
    }
   ],
   "source": [
    "plt.scatter(df['eruptions'], df['waiting'])\n",
    "plt.show()"
   ]
  },
  {
   "cell_type": "markdown",
   "metadata": {},
   "source": [
    "## To make it easier when we come to specify priors, let's standardize"
   ]
  },
  {
   "cell_type": "code",
   "execution_count": 4,
   "metadata": {},
   "outputs": [],
   "source": [
    "data = df.to_numpy() # I don't like working with dataframes!\n",
    "data_standardized = data - np.expand_dims(np.mean(data, 0), 0)\n",
    "data_standardized = data_standardized / np.expand_dims(np.std(data, 0), 0)\n"
   ]
  },
  {
   "cell_type": "markdown",
   "metadata": {},
   "source": [
    "Let's start by implementing the EM algorithm.\n",
    "\n",
    "Let $K$ be the number of clusters; $\\gamma_{ic}$ be the \"responsibility\" of cluster $c$ for observation $i$; and $\\pi_c$ be the cluster probability (which we assume fixed... how can we change that to be learned?).\n",
    "\n",
    "Let $\\mu_c$ and $\\Sigma_c$ be the mean and covariance of the $c$th cluster, respectively\n",
    "\n",
    "The E-step calculates the responsibilities, given the means and covariances:\n",
    "\n",
    "$$\\gamma_{ic} = \\frac{\\pi_c N(x_i \\ | \\ \\mu_c,\\Sigma_c)}{\\sum_{k=1}^K \\pi_k N(x_i \\ | \\ \\mu_k,\\Sigma_k)}$$ where $N(\\boldsymbol{x} \\ | \\ \\boldsymbol{\\mu},\\boldsymbol{\\Sigma})$ describes the mulitvariate Gaussian with:\n",
    "\n",
    "The M-step calculates the mean and covariance that maximize the overall likelihood, given the responsibilities. In this case, this is just the weighted mean and covariance\n",
    "\n",
    "$$\\mu_c = \\frac{\\sum_{i=1}^N \\gamma_{i,c}x_i}{\\sum_{i=1}^N \\gamma_{i,c}} \\qquad \\qquad \\Sigma_c = \\frac{\\sum_{i=1}^N \\gamma_{i,c} (x_i-\\mu_c) (x_i-\\mu_c)^T}{\\sum_{i=1}^N\\gamma_{i,c}}$$"
   ]
  },
  {
   "cell_type": "code",
   "execution_count": 5,
   "metadata": {},
   "outputs": [],
   "source": [
    "# EM algorithm\n",
    "\n",
    "def initialize_cluster_means(data, num_clusters, fixed_cov=None):\n",
    "    # initialize the clusters, vaguely centered on the data\n",
    "    N, D = data.shape\n",
    "    means = {}\n",
    "    covs = {}\n",
    "    data_mean = np.mean(data, 0)\n",
    "    data_cov = np.cov(data.T)\n",
    "    for cluster in range(num_clusters):\n",
    "        means[cluster] = np.random.multivariate_normal(data_mean, data_cov)\n",
    "        if fixed_cov is None:\n",
    "            covs[cluster] = invwishart.rvs(df=D+1, scale=data_cov)\n",
    "        else:\n",
    "            covs[cluster] = fixed_cov\n",
    "    return means, covs\n",
    "\n",
    "def EM_algorithm(data, num_clusters, pie=None, num_iters=100, fixed_cov=None):\n",
    "    # can input a fixed covariance matrix in fixed_cov\n",
    "    N, D = data.shape\n",
    "    \n",
    "    # if unspecified, assume fixed, uniform probabilities (can you change this to be learnable?)\n",
    "    if pie is None:\n",
    "        pie = np.ones(num_clusters)/num_clusters\n",
    "    else:\n",
    "        assert len(pie) == num_clusters\n",
    "        assert np.sum(pie) == 1\n",
    "        \n",
    "    # initialize the clusters, vaguely centered on the data\n",
    "    means, covs = initialize_cluster_means(data, num_clusters, fixed_cov)\n",
    "    \n",
    "    log_likelihoods = []\n",
    "    \n",
    "    for i in range(num_iters):\n",
    "        # E step\n",
    "        # calculate expected labels, given means and covariances\n",
    "        log_gammas = np.zeros((N, num_clusters)) # I am working in log probabilities to avoid overflow issues\n",
    "        for cluster in range(num_clusters):\n",
    "            log_gammas[:, cluster] = mnormal.logpdf(data, means[cluster], covs[cluster]) + np.log(pie[cluster])\n",
    "\n",
    "        # normalize responsibilities in log space\n",
    "        ll = logsumexp(log_gammas, 1)\n",
    "        log_gammas = log_gammas - np.expand_dims(ll, 1)\n",
    "        # logsumexp is a super useful function if you haven't used it before!!\n",
    "        gammas = np.exp(log_gammas)\n",
    "        log_likelihoods.append(np.mean(ll))\n",
    "        assert np.all(np.isfinite(gammas)) # just in case! But working in log space should have avoided this\n",
    "        \n",
    "        # M step\n",
    "        cluster_gamma_totals = np.sum(gammas, 0)\n",
    "\n",
    "        for cluster in range(num_clusters):\n",
    "            means[cluster] = np.dot(gammas[:, cluster], data) / cluster_gamma_totals[cluster]\n",
    "            centered_data = data - np.expand_dims(means[cluster], 0) # x-mu\n",
    "            if fixed_cov is None:\n",
    "                covs[cluster] = np.dot(centered_data.T, np.expand_dims(gammas[:, cluster], 1) * centered_data) \n",
    "                covs[cluster] /= cluster_gamma_totals[cluster]\n",
    "          \n",
    "    return means, covs, gammas, log_likelihoods\n",
    "\n",
    "def plot_clusters(data, probs, dims=[0,1]):\n",
    "    hard_assignments = np.argmax(probs, 1) # get the most likely cluster\n",
    "    num_clusters = probs.shape[1]\n",
    "    for cluster in range(num_clusters):\n",
    "        plt.scatter(data[hard_assignments==cluster, dims[0]], data[hard_assignments==cluster, dims[1]])\n",
    "        \n",
    "    plt.show()"
   ]
  },
  {
   "cell_type": "markdown",
   "metadata": {},
   "source": [
    "## You can either run with fixed covariance..."
   ]
  },
  {
   "cell_type": "code",
   "execution_count": 6,
   "metadata": {},
   "outputs": [
    {
     "data": {
      "image/png": "[encoded data removed]",
      "text/plain": [
       "<Figure size 432x288 with 1 Axes>"
      ]
     },
     "metadata": {
      "needs_background": "light"
     },
     "output_type": "display_data"
    }
   ],
   "source": [
    "means, covs, gammas, log_likelihoods = EM_algorithm(data, 2, fixed_cov=np.eye(2))\n",
    "plot_clusters(data, gammas)"
   ]
  },
  {
   "cell_type": "markdown",
   "metadata": {},
   "source": [
    "## Or learn the covariance"
   ]
  },
  {
   "cell_type": "code",
   "execution_count": 7,
   "metadata": {},
   "outputs": [
    {
     "data": {
      "image/png": "[encoded data removed]",
      "text/plain": [
       "<Figure size 432x288 with 1 Axes>"
      ]
     },
     "metadata": {
      "needs_background": "light"
     },
     "output_type": "display_data"
    }
   ],
   "source": [
    "means, covs, gammas, log_likelihoods = EM_algorithm(data, 2)\n",
    "plot_clusters(data, gammas)"
   ]
  },
  {
   "cell_type": "markdown",
   "metadata": {},
   "source": [
    "## Here, the number of clusters seems clear, but we can vary it if we want"
   ]
  },
  {
   "cell_type": "code",
   "execution_count": 8,
   "metadata": {},
   "outputs": [
    {
     "data": {
      "image/png": "[encoded data removed]",
      "text/plain": [
       "<Figure size 432x288 with 1 Axes>"
      ]
     },
     "metadata": {
      "needs_background": "light"
     },
     "output_type": "display_data"
    }
   ],
   "source": [
    "means, covs, gammas, log_likelihoods = EM_algorithm(data, 3)\n",
    "plot_clusters(data, gammas)"
   ]
  },
  {
   "cell_type": "markdown",
   "metadata": {},
   "source": [
    "# We can plot the log likelihood over time to see how we are doing"
   ]
  },
  {
   "cell_type": "code",
   "execution_count": 9,
   "metadata": {},
   "outputs": [
    {
     "data": {
      "image/png": "[encoded data removed]",
      "text/plain": [
       "<Figure size 432x288 with 1 Axes>"
      ]
     },
     "metadata": {
      "needs_background": "light"
     },
     "output_type": "display_data"
    }
   ],
   "source": [
    "plt.plot(log_likelihoods)\n",
    "plt.xlabel('iteration')\n",
    "plt.ylabel('average log likelihood')\n",
    "plt.show()"
   ]
  },
  {
   "cell_type": "markdown",
   "metadata": {},
   "source": [
    "# Now let's do VBayes!\n",
    "\n",
    "We went through the derivation for 1d data with unit variance in the paper...\n",
    "\n",
    "Let's see if you can expand to 2d data!\n",
    "\n",
    "Let's start by assuming fixed spherical covariances, so that:\n",
    "\n",
    "$$\\begin{aligned}\n",
    "\\mu_c \\sim& N(\\mu_0, \\sigma_0^2 I)\\\\\n",
    "z_i \\sim& \\pi\\\\\n",
    "x_i \\sim& N(\\mu_{z_i}, \\sigma_x^2 I)\n",
    "\\end{aligned}$$\n",
    "\n",
    "\n"
   ]
  },
  {
   "cell_type": "markdown",
   "metadata": {},
   "source": [
    "Let's start by writing out the terms of the log joint:\n",
    "\n",
    "$$\n",
    "\\log p(x, \\{z_i\\}, \\{mu_c\\}) = \\sum_i \\left(\\log p(x_i | z_i, \\{mu_c\\}, \\sigma_x^2) + \\log p(z_i | \\pi) \\right)+ \\sum_c \\left(\\log p(\\mu_c | \\mu_0, \\sigma_0^2) \\right)$$\n",
    "\n",
    "Fill in the individual terms below:\n",
    "\n",
    "$$\\begin{aligned}\n",
    "\\log p(x_i | z_i, \\{\\mu_c\\}, \\sigma_x^2) =& \\sum_{c} -z_{i,c} \\left(\\frac{1}{2\\sigma_x^2}(x_i-\\mu_c)^T(x_i-\\mu_c)\\right) + \\text{const}\\\\\n",
    "\\log p(z_i | \\pi) =& \\sum_i z_{i,c} \\log \\pi_{c}\\\\\n",
    "\\log p(\\mu_c | \\mu_0, \\sigma_0^2) =& -\\frac{1}{2\\sigma_0^2}(\\mu_c-\\mu_0)^T(\\mu_c-\\mu_0) + \\text{const}\n",
    "\\end{aligned}$$\n"
   ]
  },
  {
   "cell_type": "markdown",
   "metadata": {},
   "source": [
    "## Calculating the updates\n",
    "\n",
    "We know $q^*(z_i) \\propto \\exp\\left\\{\\mathbb{E}\\left[\\log p(z_i, \\{x_i\\}, \\{z_j: j\\neq i\\}, \\{\\mu_c\\})\\right]\\right\\}$, where the expectation is taken wrt q of all the other variables.\n",
    "\n",
    "We know that most of the terms are constant wrt $z_i$, allowing us to write:\n",
    "\n",
    " $$q^*(z_i) \\propto \\exp\\left\\{\\mathbb{E}\\left[\\log p(x_i | z_i, \\{\\mu_c\\}, \\sigma_x^2) + \\log p(z_i|pi)\\right]\\right\\} = \\exp\\left\\{z_i^T\\log \\pi_{z_i} + \\mathbb{E}\\left[\\log p(x_i | z_i, \\{\\mu_c\\}, \\sigma_x^2)\\right]\\right\\}$$\n",
    " \n",
    "Here, I am assuming $z_i$ is a length-$K$ vector. Note we can take the $\\log p(z_i|\\pi)$ out of the expectation, since it isn't affected by any of our variational distributions\n",
    "\n",
    "Based on your derivations above, fill in the following:\n",
    "\n",
    "$$q^*(z_i) \\propto \\exp \\left\\{z_i^T\\log\\pi -z_{i, c} \\mathbb{E}_{q}\\left[\\left(\\frac{1}{2\\sigma_x^2}(x_i-\\mu_c)^T(x_i-\\mu_c)\\right)\\right] \\right\\} = \\exp \\left\\{ z_{i}^T\\left(\\log \\pi +  \\mathbb{E}_{q(\\mu_c)}\\left[\\mu_c\\right]^Tx_i - \\mathbb{E}_{q(\\mu_c)}\\left[\\mu_c^T\\mu_c\\right]\\right)\\right\\}$$\n",
    "\n",
    "What distribution does that imply?? (If it doesn't look like a standard distribution, you've probably made a mistake somewhere!)\n",
    "\n",
    "* A Categorical($\\gamma_{i,1}\\dots, \\phi_{i, c}$), with parameters $\\gamma_{i,c}\\propto\\exp\\left\\{\\log \\pi_c + \\mathbb{E}_{q(\\mu_c)}\\left[\\mu_c\\right]^Tx_i - \\mathbb{E}_{q(\\mu_c)}\\left[\\mu_c^T\\mu_c\\right]\\right\\}$\n",
    "\n",
    "(should look similar to what we saw in the paper, but now we have $\\pi$ not necessarily symmetric, and multivariate $\\mu$)\n"
   ]
  },
  {
   "cell_type": "markdown",
   "metadata": {},
   "source": [
    "We know $q^*(\\mu_c) \\propto \\exp\\left\\{\\mathbb{E}\\left[\\log p(\\mu_c, \\{x_i, z_i\\}, \\{z_j: j\\neq c\\}\\right]\\right\\}$, where the expectation is taken wrt q of all the other variables.\n",
    "\n",
    "This gives us... (fill in)\n",
    "\n",
    " $$\\begin{aligned}q^*(\\mu_c) \\propto& \\exp\\left\\{\n",
    " - \\left(\\frac{1}{2\\sigma_x^2}\\sum_i(x_i-\\mu_c)^T(x_i-\\mu_c)\\right)\\mathbb{E}_{q(\\phi_i)}[z_i] \n",
    " -\\frac{1}{2\\sigma_0^2}(\\mu_c-\\mu_0)^T(\\mu_c-\\mu_0)\n",
    " \\right\\}\\\\\n",
    " \\propto& \\exp\\left\\{\n",
    " - \\frac{1}{2\\sigma_x^2}\\sum_i \\gamma_{i,c}(x_i-\\mu_c)^T(x_i-\\mu_c) -\\frac{1}{2\\sigma_0^2}(\\mu_c-\\mu_0)^T(\\mu_c-\\mu_0)\\right\\}\n",
    " \\end{aligned}$$\n",
    " \n",
    "What distribution does that imply for the $\\mu_c$? (again, should be fairly similar to what we saw in the paper)\n",
    "\n",
    "\n",
    "$N(m_{c}, s_c^2I)$, where\n",
    "\n",
    "$$m_c = \\frac{\\sigma_x^2\\mu_0 + \\sigma_0^2\\sum_i\\gamma_{i,c}x_i}{\\sigma_x^2 + \\sigma_0^2\\sum_i\\gamma_{i,c}} \\qquad \\qquad s_c^2 = \\frac{\\sigma_0^2\\sigma_x^2}{\\sigma_x^2 + \\sigma_0^2\\sum_i\\gamma_{i,c}}$$"
   ]
  },
  {
   "cell_type": "markdown",
   "metadata": {},
   "source": [
    "## Spoilers!!\n",
    "\n",
    "OK, I'm going to assume you have something that you can write in the form:\n",
    "\n",
    "$$q^*(z_i) = \\text{Categorical}(\\gamma_i) \\qquad \\qquad q^*(\\mu_c) = N(m_c, s_c^2 I)$$\n",
    "\n",
    "\n",
    "What is $\\gamma_i$?\n",
    "\n",
    "* $\\gamma_{i, c} \\propto \\exp\\{ \\log \\pi_c + m_c^Tx_i - m_c^T m_c - D\\sigma_c^2\\}$\n",
    "\n",
    "What is $m_c$?\n",
    "\n",
    "* $m_c = \\frac{\\sigma_x^2\\mu_0 + \\sigma_0^2\\sum_i\\gamma_{i,c}x_i}{\\sigma_x^2 + \\sigma_0^2\\sum_i\\gamma_{i,c}}$\n",
    "\n",
    "What is $s_c^2$?\n",
    "\n",
    "* $s_c^2 = \\frac{\\sigma_0^2\\sigma_x^2}{\\sigma_x^2 + \\sigma_0^2\\sum_i\\gamma_{i,c}}$\n",
    "\n",
    "\n",
    "Now that we know the form of $q$, we can write out the whole ELBO (go ahead and fill it out below:\n",
    "\n",
    "$$\\begin{aligned}ELBO =&  \\sum_i \\left(\\mathbb{E}_{q(z_i), \\{q(\\mu_c)\\}} \\left[\\log p(x_i) + \\log p(z_i)\\right] \\right)+ \\sum_c \\mathbb{E}_{q(\\mu_c)} \\left[\\log p(\\mu_c) \\right]  - \\sum_i\\mathbb{E}_{q(z_i)}\\left[\\log q(z_i)\\right] - \\sum_c \\mathbb{E}_{q(\\mu_c)} \\left[\\log q(\\mu_c)\\right]\\\\\n",
    "=&  \\sum_i \\sum_c \\gamma_{i,c}\\left(\\log N(x_i|m_c, s_x^2I) - \\frac{Ds_c^2}{2\\sigma_x^2}\\right)\\\\\n",
    "&+ \\sum_i \\sum_c \\gamma_{i, c}\\log \\pi_{i,c}\\\\\n",
    "&+ \\sum_c \\left(\\log N(m_c|\\mu_0, \\sigma_0^2I) - \\frac{Ds_c^2}{2\\sigma_0^2}\\right)\\\\\n",
    "&- \\sum_i \\sum_c \\gamma_{i,c}\\log \\gamma_{i,c}\\\\\n",
    "&+ \\sum_c \\frac{D}{2}\\log (2\\pi s_c^2) +\\frac{D}{2}\n",
    "\\end{aligned}\n",
    "$$\n"
   ]
  },
  {
   "cell_type": "markdown",
   "metadata": {},
   "source": [
    "## OK let's write some code!!\n",
    "\n",
    "I've made a template below, fill in where it says \"TODO\""
   ]
  },
  {
   "cell_type": "code",
   "execution_count": 10,
   "metadata": {},
   "outputs": [],
   "source": [
    "def calculate_elbo_1(data, m, s2, gammas, sig2_x, sig2_0, mu0, pie):\n",
    "    N, D = data.shape\n",
    "    num_clusters = len(m)\n",
    "    elbo = 0\n",
    "    for cluster in range(num_clusters):\n",
    "        logN = mnormal.logpdf(data, m[cluster], s2[cluster]*np.eye(D))\n",
    "        elbo += np.dot(gammas[:, cluster], logN - D*s2[cluster]/(2*sig2_x))\n",
    "    \n",
    "    elbo += np.sum(np.dot(gammas, np.log(pie)))\n",
    "\n",
    "    for cluster in range(num_clusters):\n",
    "        elbo += mnormal.logpdf(m[cluster], mu0, sig2_0*np.eye(D)) - D*s2[cluster]/(2*sig2_0)\n",
    "    \n",
    "    elbo -= np.sum(gammas * np.log(gammas))\n",
    "    \n",
    "    \n",
    "    for cluster in range(num_clusters):\n",
    "        elbo += 0.5*D*(1+np.log(2*np.pi*s2[cluster]))\n",
    "        \n",
    "    return elbo\n",
    "\n",
    "def VBayes_1(data, num_clusters=2, pie=None, mu0=np.array([0., 0.]), sig2_0=1., sig2_x=1., num_iters=100):\n",
    "\n",
    "    N, D = data.shape\n",
    "    \n",
    "    if pie is None:\n",
    "        pie = np.ones(num_clusters)/num_clusters\n",
    "    else:\n",
    "        assert len(pie) == num_clusters\n",
    "        assert np.sum(pie) == 1\n",
    "    \n",
    "    # some initializations\n",
    "    m = {} \n",
    "    s2 = {} \n",
    "    for cluster in range(num_clusters):\n",
    "        m[cluster] = np.random.normal(mu0, sig2_0)\n",
    "        s2[cluster] = np.random.rand()\n",
    "        \n",
    "    gammas = np.random.rand(N, num_clusters)\n",
    "    gammas = gammas / np.expand_dims(np.sum(gammas, 1), 1)\n",
    "    \n",
    "    \n",
    "    elbo = [] # \n",
    "    for i in range(num_iters):\n",
    "        # update the parameters of q(z) (peek at the E step for the EM algo if you get stuck implementing)\n",
    "        \n",
    "        log_gammas = np.zeros((N, num_clusters))\n",
    "        for cluster in range(num_clusters):\n",
    "            log_gammas[:, cluster] = np.log(pie[cluster]) + np.dot(data, m[cluster]) - D*s2[cluster]\n",
    "        \n",
    "        ll = logsumexp(log_gammas, 1)\n",
    "        log_gammas = log_gammas - np.expand_dims(ll, 1)\n",
    "        # logsumexp is a super useful function if you haven't used it before!!\n",
    "        gammas = np.exp(log_gammas)\n",
    "        \n",
    "        # update the parameters of q(\\mu_c) (peek at the M-step for the EM algo if you get stuck implementing)\n",
    "        for cluster in range(num_clusters):\n",
    "            gamma_sum = np.sum(gammas[:, cluster])\n",
    "            weighted_sum = np.dot(gammas[:, cluster], data)\n",
    "            try:\n",
    "                m[cluster] = (sig2_x*mu0 + sig2_0 * weighted_sum) / (sig2_x + sig2_0*gamma_sum)\n",
    "            except TypeError:\n",
    "                import pdb\n",
    "                pdb.set_trace()\n",
    "            s2[cluster] = sig2_0*sig2_x/(sig2_x + sig2_0*gamma_sum)\n",
    "            \n",
    "        # calculate the ELBO for tracking\n",
    "        \n",
    "        current_elbo = calculate_elbo_1(data, m, s2, gammas, sig2_x, sig2_0, mu0, pie)\n",
    "        elbo.append(current_elbo)\n",
    "        \n",
    "          \n",
    "    return m, s2, gammas, elbo"
   ]
  },
  {
   "cell_type": "markdown",
   "metadata": {},
   "source": [
    "# You can check it out on the data we used for the EM!\n",
    "\n",
    "* How does it compare with the EM output?\n",
    "* Try different priors: How do the choice of priors impact the outcome?"
   ]
  },
  {
   "cell_type": "code",
   "execution_count": 11,
   "metadata": {},
   "outputs": [
    {
     "data": {
      "image/png": "[encoded data removed]",
      "text/plain": [
       "<Figure size 432x288 with 1 Axes>"
      ]
     },
     "metadata": {
      "needs_background": "light"
     },
     "output_type": "display_data"
    }
   ],
   "source": [
    "means, covs, gammas, elbos = VBayes_1(data_standardized, mu0=np.array([0., 0.]), sig2_0=1., sig2_x=1.)\n",
    "plot_clusters(data, gammas)"
   ]
  },
  {
   "cell_type": "code",
   "execution_count": 12,
   "metadata": {},
   "outputs": [],
   "source": [
    "true_gammas=gammas"
   ]
  },
  {
   "cell_type": "markdown",
   "metadata": {},
   "source": [
    "## Sanity check -- is the ELBO going up over time?"
   ]
  },
  {
   "cell_type": "code",
   "execution_count": 13,
   "metadata": {},
   "outputs": [
    {
     "data": {
      "image/png": "[encoded data removed]",
      "text/plain": [
       "<Figure size 432x288 with 1 Axes>"
      ]
     },
     "metadata": {
      "needs_background": "light"
     },
     "output_type": "display_data"
    }
   ],
   "source": [
    "plt.plot(elbos)\n",
    "plt.xlabel('iteration')\n",
    "plt.ylabel('elbo')\n",
    "plt.show()"
   ]
  },
  {
   "cell_type": "markdown",
   "metadata": {},
   "source": [
    "## Let's look at a more complicated model!\n",
    "\n",
    "Let's try using a normal-Wishart prior on the means and precision matrices:\n",
    "\n",
    "$$p(\\mu_c, \\Lambda_c) = NW(\\mu_c, \\Lambda_c|\\mu_0, \\beta, W,  \\nu) = N\\left(\\mu_c| \\mu_0, (\\beta\\Lambda_c)^{-1}\\right)\\text{Wishart}(\\Lambda_c|W, \\nu)$$\n",
    "\n",
    "And a Dirichlet($\\alpha, \\dots, \\alpha)$ prior for $\\pi$\n",
    "\n",
    "\n",
    "To complete our generative model, we have:\n",
    "\n",
    "$$z_i \\sim \\pi \\qquad \\qquad x_i \\sim N(\\mu_{z_i}, \\Lambda_{z_i}^{-1})$$"
   ]
  },
  {
   "cell_type": "markdown",
   "metadata": {},
   "source": [
    "Let's start by writing out the terms of the log joint:\n",
    "\n",
    "$$\n",
    "\\log p(x, \\{z_i\\}, \\{\\mu_c, \\Lambda_c\\}, \\pi) = \\log p(x | \\{z_i\\}, \\{\\mu_c, \\Lambda_c\\}, \\pi) + \\sum_i \\left(\\log p(z_i | \\pi) \\right)+ \\sum_c \\left(\\log p(\\mu_c | \\mu_0, \\beta, \\Lambda_c) + \\log p(\\Lambda_c |W, \\nu)\\right) + \\log p(\\pi)$$\n",
    "\n",
    "\n",
    "Fill in the individual terms below:\n",
    "\n",
    "$$\\begin{aligned}\n",
    "\\log p(x | \\{z_i\\}, \\{\\mu_c, \\Lambda_c\\}, \\pi) =& z_i^T\\left(-\\frac{1}{2}\\log 2\\pi + \\frac{1}{2}\\log |\\Lambda_c| - \\frac{1}{2}(x_i-\\mu_c)^T\\Lambda_c(x_i-\\mu_c)\\right)\\\\\n",
    "\\log p(z_i | \\pi)  =& z_i^T\\log(\\pi)\\\\\n",
    "\\log p(\\mu_c | \\mu_0, \\beta, \\Lambda_c) =& -\\frac{1}{2}\\log(2\\pi) + \\frac{1}{2}\\log |\\beta \\Lambda_c| - \\frac{\\beta}{2} (\\mu_c-\\mu_0)^T\\Lambda(\\mu_c-\\mu_0)\\\\\n",
    "\\log p(\\Lambda_c |W, \\nu) = & \\frac{\\nu-D-1}{2}\\log |\\Lambda_c| -\\frac{1}{2} Tr(W^{-1}\\Lambda_c) - \\frac{\\nu D \\log 2}{2} - \\frac{\\nu}{2}\\log|W| - \\log \\Gamma_D(\\nu/2)\\\\\n",
    "\\log p(\\pi) =& K \\log \\Gamma(\\alpha) - \\Gamma(K\\alpha) + \\sum_c(\\alpha-1)\\log \\pi_c\\end{aligned}$$\n"
   ]
  },
  {
   "cell_type": "markdown",
   "metadata": {},
   "source": [
    "## Calculating the updates:\n",
    "\n",
    "We are going to use an approximation of the form $q(\\{z_i\\}, \\{\\mu_k, \\Lambda_k\\}) = \\prod_i q(z_i)\\prod_k q(\\mu_k,\\Lambda_k)$\n",
    "\n",
    "\n",
    "\n",
    "### $q^*(z_i)$\n",
    "This is going to be pretty similar to before! Except, we now need to take the expectation of $p(z_i|\\pi)$ wrt $q(\\pi)$\n",
    "\n",
    "So we have:\n",
    "\n",
    " $$q^*(z_i) \\propto \\exp\\left\\{\\mathbb{E}_{\\{q(\\mu_c, \\Lambda_c)\\}}\\left[\\log p(x_i | z_i, \\{\\mu_c\\}, \\{\\Lambda_c\\})\\right] + \\mathbb{E}_{q(\\pi)}\\left[\\log p(z_i|\\pi)\\right]\\right\\}$$\n",
    " \n",
    " You should be able to write this out as a function of $\\mathbb{E}_{\\{q(\\mu_c, \\Lambda_c)\\}}\\left[\\log | \\Lambda_c |\\right]$,  $\\mathbb{E}_{q(\\pi)}\\log \\pi$ and $\\mathbb{E}_{q(\\mu_c, \\Lambda_c)}\\left[(x-\\mu_c)^T\\Lambda_c(x-\\mu_c)\\right]$...\n",
    " \n",
    " $$ \\mathbb{E}_{\\{q(\\mu_c, \\Lambda_c)\\}}\\left[\\log p(x_i | z_i, \\{\\mu_c\\}, \\{\\Lambda_c\\})\\right] + \\mathbb{E}_{q(\\pi)}\\left[\\log p(z_i|\\pi)\\right] = z_i^T\\left(\\frac{1}{2}\\mathbb{E}_{\\{q( \\Lambda_c)\\}}\\left[\\log | \\Lambda_c |\\right] -\\frac{D}{2} - \\frac{1}{2}\\mathbb{E}_{q(\\mu_c, \\Lambda_c)}\\left[(x-\\mu_c)^T\\Lambda_c(x-\\mu_c)\\right] + \\log \\mathbb{E}_{q(\\pi)}\\log \\pi\\right)$$\n",
    " \n",
    "  $$q^*(z_i) \\propto \\exp\\left\\{z_i^T\\underbrace{\\left(-\\frac{1}{2}\\mathbb{E}_{\\{q( \\Lambda_c)\\}}\\left[\\log | \\Lambda_c |\\right] - \\mathbb{E}_{q(\\mu_c, \\Lambda_c)}\\left[(x-\\mu_c)^T\\Lambda_c(x-\\mu_c)\\right] + \\log \\mathbb{E}_{q(\\pi)}\\log \\pi\\right)}_{\\gamma_i}\\right\\}$$\n",
    "  \n",
    "  As before, it should look like a Categorical($\\gamma_i$), for some $\\gamma_i$! We can't yet calculate $\\mathbb{E}_{\\{q(\\mu_c, \\Lambda_c)\\}}\\left[\\log | \\Lambda_c |\\right]$, $\\mathbb{E}_{q(\\mu_c, \\Lambda_c)}\\left[(x-\\mu_c)^T\\Lambda_c(x-\\mu_c)\\right]$ and $\\mathbb{E}_{q(\\pi)}\\log \\pi$ until we know the appropriate forms of $q$..."
   ]
  },
  {
   "cell_type": "markdown",
   "metadata": {},
   "source": [
    "### $q^*(\\pi)$\n",
    "\n",
    "We have:\n",
    "\n",
    " $$\\begin{aligned}\n",
    " q^*(\\pi) \\propto& \\exp\\left\\{\\mathbb{E}_{\\{q(z_i)\\}}\\left[\\sum_i\\log p(z_i|\\pi) + \\log p(\\pi)\\right]\\right\\}\\\\\n",
    " \\propto&  \\exp\\left\\{\\sum_c \\left((\\alpha-1) \\sum_c \\log \\pi_c + \\sum_i\\gamma_{i,c}\\log \\pi_c \\right)\\right\\} \\\\\n",
    " =& \\exp \\left\\{ \\sum_c \\left(\\alpha - 1 + \\sum_i \\gamma_{i,c}\\right) \\log \\pi_c\\right\\}\\end{aligned}$$\n",
    " \n",
    " We can write this out fully in terms of the $\\gamma_i$ we used above, since we know $q(z_i)=\\text{Categorical}(\\gamma_i)$. It should look like a Dirichlet($\\tau$), for some $\\tau$!\n",
    "\n",
    "* $q^*(\\pi) = \\text{Dirichlet}\\left(\\tau_1,\\dots, \\tau_K\\right)$ where $\\tau_c = \\alpha + \\sum_i \\gamma_{i, c}$\n"
   ]
  },
  {
   "cell_type": "markdown",
   "metadata": {},
   "source": [
    "### $q^*(\\mu_c, \\Lambda_c)$\n",
    " \n",
    "  $$q^*(\\mu_c, \\Lambda_c) \\propto \\exp\\left\\{\\mathbb{E}_{\\{q(z_i)\\}}\\left[\\log p(x_i | z_i, \\{\\mu_c\\}, \\{\\Lambda_c\\})\\right] + \\log p(\\mu_c, \\Lambda_c)\\right\\}$$\n",
    " \n",
    "As before, the prior term isn't part of the expectation since it doesn't depend on anything else.\n",
    "\n",
    "Bit of a longer sum, but we can do it!\n",
    "\n",
    "$$ \n",
    "\\begin{aligned}&\\mathbb{E}_{\\{q(z_i)\\}} \\left[\\log p(x_i | z_i, \\{\\mu_c\\}, \\{\\Lambda_c\\})\\right] + \\log p(\\mu_c, \\Lambda_c)\\\\ =&\\frac{\\nu - D - 1}{2}\\log |\\Lambda_c| -\\frac{1}{2} Tr(W^{-1}\\Lambda_c) + \\sum_i \\frac{\\gamma_{i,c}}{2}\\left(\\log |\\Lambda_c| + (x-\\mu_c)^T\\Lambda_c (x-\\mu_c)\\right) \\\\\n",
    "&+ \\frac{1}{2}\\log |\\Lambda_c| - \\frac{\\beta}{2} (\\mu_c-\\mu_0)^T\\Lambda_c(m_c-\\mu_0) + \\text{const}\\\\\n",
    "=& \\frac{\\nu - D - 1 + \\sum_i \\gamma_{i,c}}{2}\\log |\\Lambda_c| + \\frac{1}{2}\\log |\\Lambda_c| \\\\\n",
    "&-\\frac{1}{2}\\left(\\left(\\beta+\\sum_i\\gamma_{i,c}\\right) \\mu_c^T\\Lambda_c\\mu_c - \\mu_c^T\\Lambda_c\\left(\\beta\\mu_0 + \\sum_i\\gamma_{i,c} x_i\\right) -\\left(\\beta\\mu_0 + \\sum_i\\gamma_{i,c} x_i\\right)^T\\Lambda_c\\mu_c + \\beta\\mu_0\\Lambda_c\\mu_0 + \\sum_i\\gamma_{i,c}x_{i}^T\\Lambda_c x_i + Tr(W^{-1}\\Lambda_c)\\right)\\\\\n",
    "\\end{aligned}$$\n",
    "\n",
    "This is getting unweildy, so let $\\tilde{\\gamma}_c = \\sum_i\\gamma_{i,c}$ and $\\tilde{x}_c = \\sum_i\\gamma_{i,c}x_i$\n",
    "\n",
    "$$ \n",
    "\\begin{aligned}&\\mathbb{E}_{\\{q(z_i)\\}} \\left[\\log p(x_i | z_i, \\{\\mu_c\\}, \\{\\Lambda_c\\})\\right] + \\log p(\\mu_c, \\Lambda_c)\\\\ \n",
    "=& \\frac{\\nu - D - 1 + \\tilde{\\gamma}_c}{2}\\log |\\Lambda_c| + \\frac{1}{2}\\log |\\Lambda_c| \n",
    "-\\frac{1}{2}\\left(\\left(\\beta+\\tilde{\\gamma_c}\\right) \\mu_c^T\\Lambda_c\\mu_c - \\mu_c^T\\Lambda_c\\left(\\beta\\mu_0 + \\tilde{x}_c\\right) -\\left(\\beta\\mu_0 + \\tilde{x}_c\\right)^T\\Lambda_c\\mu_c + \\beta\\mu_0\\Lambda_c\\mu_0 + \\sum_i\\gamma_{i,c}x_i^T\\Lambda_c x_i + Tr(W^{-1}\\Lambda_c)\\right)\\\\\n",
    "\\end{aligned}$$\n",
    "\n",
    "We can rewrite:\n",
    "\n",
    "$$ \\left(\\beta+\\tilde{\\gamma}_{c}\\right) \\mu_c^T\\Lambda_c\\mu_c - \\mu_c^T\\Lambda_c\\left(\\beta\\mu_0 + \\tilde{x}_c\\right) -\\left(\\beta\\mu_0 + \\tilde{x}_c\\right)^T\\Lambda_c\\mu_c + \\beta\\mu_0\\Lambda_c\\mu_0 + \\sum_i\\gamma_{i,c}x_i^T\\Lambda_c x_i + Tr(W^{-1}\\Lambda_c)$$\n",
    "\n",
    "as\n",
    "\n",
    "$$ \\left(\\beta+\\tilde{\\gamma}_{c}\\right) \\mu_c^T\\Lambda_c\\mu_c - \\mu_c^T\\Lambda_c\\left(\\beta\\mu_0 + \\tilde{x}_c\\right) -\\left(\\beta\\mu_0 + \\tilde{x}_c\\right)^T\\Lambda_c\\mu_c  + \\frac{1}{\\beta+\\tilde{\\gamma}_c}\\left(\\beta\\mu_0 + \\tilde{x}_c\\right)^T\\Lambda_c \\left(\\beta\\mu_0 + \\tilde{x}_c\\right)\n",
    "-\\frac{1}{\\beta+\\tilde{\\gamma}_c}\\left(\\beta\\mu_0 +\\tilde{x}_c\\right)^T\\Lambda_c \\left(\\beta\\mu_0 +  \\tilde{x}_c \\right) +\\beta\\mu_0\\Lambda_c\\mu_0 + \\sum_i\\gamma_{i,c}x_i^T\\Lambda_c x_i+ Tr(W^{-1}\\Lambda_c)\n",
    "$$\n",
    "\n",
    "which factorizes as:\n",
    "\n",
    "$$(\\beta+\\tilde{\\gamma}_c)\\left(\\mu_c + \\frac{\\beta \\mu_0 + \\tilde{x}_c}{\\beta+\\tilde{\\gamma}_c}\\right)^T\\Lambda_c \n",
    "\\left(\\mu_c + \\frac{\\beta \\mu_0 + \\tilde{x}_c}{\\beta+\\tilde{\\gamma}_c}\\right) -\\frac{1}{\\beta+\\tilde{\\gamma}_c}\\left(\\beta\\mu_0 +\\tilde{x}_c\\right)^T\\Lambda_c \\left(\\beta\\mu_0 +  \\tilde{x}_c \\right) +\\beta\\mu_0\\Lambda_c\\mu_0 + \\sum_i\\gamma_{i,c}x_i^T\\Lambda_c x_i+ Tr(W^{-1}\\Lambda_c)$$\n",
    "\n",
    "\n",
    "Next, rewrite\n",
    "$$ -\\frac{1}{\\beta+\\tilde{\\gamma}_c}\\left(\\beta\\mu_0 +\\tilde{x}_c\\right)^T\\Lambda_c \\left(\\beta\\mu_0 +  \\tilde{x}_c \\right) + \\beta\\mu_0\\Lambda_c\\mu_0  + \\sum_i\\gamma_{i,c}x_i^T\\Lambda_c x_i + Tr(W^{-1}\\Lambda_c)$$\n",
    "\n",
    "as\n",
    "\n",
    "$$\\begin{aligned} & -\\frac{1}{\\beta+\\tilde{\\gamma}_c}\\left(\\beta\\mu_0 +\\tilde{x}_c\\right)^T\\Lambda_c\\left(\\beta\\mu_0 +  \\tilde{x}_c \\right) + \\beta\\mu_0\\Lambda_c\\mu_0  + \\sum_i\\gamma_{i, c} x_i^T\\Lambda_c \\tilde{x}_c - \\frac{1}{\\tilde{\\gamma}_c}\\tilde{x}_c^T\\Lambda_c \\tilde{x}_c+\\frac{1}{\\tilde{\\gamma}_c}\\tilde{x}_c^T\\Lambda_c x_i + Tr(W^{-1}\\Lambda_c)\\\\\n",
    "=& \\sum_i\\left(\\gamma_{i,c}\\left(x_i-\\frac{\\tilde{x}_c}{\\tilde{\\gamma}}\\right)^T\\Lambda_c\\left(x_i-\\frac{\\tilde{x}_c}{\\tilde{\\gamma}}\\right)\\right) -\\frac{1}{\\beta+\\tilde{\\gamma}_c}\\left(\\beta\\mu_0 +\\tilde{x}_c\\right)^T\\Lambda_c\\left(\\beta\\mu_0 +  \\tilde{x}_c \\right) + \\beta\\mu_0\\Lambda_c\\mu_0 + \\frac{1}{\\tilde{\\gamma}_c}\\tilde{x}_c^T\\Lambda_c \\tilde{x}_c + Tr(W^{-1}\\Lambda_c)\\\\\n",
    "=& \\sum_i\\left(\\gamma_{i,c}\\left(x_i-\\frac{\\tilde{x}_c}{\\tilde{\\gamma}}\\right)^T\\Lambda_c\\left(x_i-\\frac{\\tilde{x}_c}{\\tilde{\\gamma}}\\right)\\right) + \\frac{\\beta\\tilde{\\gamma}_c}{\\beta+\\tilde{\\gamma_c}}\\left(\\frac{\\tilde{x}_c}{\\tilde{\\gamma}_c} - \\mu_0\\right)^T\\Lambda_c\\left(\\frac{\\tilde{x}_c}{\\tilde{\\gamma}_c} - \\mu_0\\right) + Tr(W^{-1}\\Lambda_c)\n",
    "\\end{aligned}$$\n",
    "\n",
    "\n",
    "Note that $(x^T\\Lambda x = Tr\\left(x^T\\Lambda_c x\\right) = Tr(xx^T\\Lambda)$, so we can write our entire expectation as:\n",
    "\n",
    "$$ \n",
    "\\begin{aligned}&\\mathbb{E}_{\\{q(z_i)\\}} \\left[\\log p(x_i | z_i, \\{\\mu_c\\}, \\{\\Lambda_c\\})\\right] + \\log p(\\mu_c, \\Lambda_c)\\\\ \n",
    "=& \\frac{\\nu - D - 1 + \\tilde{\\gamma}_c}{2}\\log |\\Lambda_c| + \\frac{1}{2}\\log |\\Lambda_c| + (\\beta+\\tilde{\\gamma}_c)\\left(\\mu_c + \\frac{\\beta \\mu_0 + \\tilde{x}_c}{\\beta-\\tilde{\\gamma}_c}\\right)^T\\Lambda_c \n",
    "\\left(\\mu_c + \\frac{\\beta \\mu_0 + \\tilde{x}_c}{\\beta+\\tilde{\\gamma}_c}\\right)\n",
    "-\\frac{1}{2}\\left(\\sum_i \\gamma_{i,c}Tr\\left(\\left(x_i-\\frac{\\tilde{x}_c}{\\tilde{\\gamma}_c}\\right)\\left(x_i-\\frac{\\tilde{x}_c}{\\tilde{\\gamma}_c}\\right)^T\\Lambda_c\\right) + \\frac{\\beta\\tilde{\\gamma}_c}{\\beta+\\tilde{\\gamma}_c}Tr\\left(\\left(\\frac{\\tilde{x}_c}{\\tilde{\\gamma}_c} - \\mu_0\\right)\\left(\\frac{\\tilde{x}_c}{\\tilde{\\gamma}_c} - \\mu_0\\right)^T\\Lambda_c\\right) + Tr(W^{-1}\\Lambda_c)\\right)\\\\\n",
    "\\end{aligned}$$\n",
    "\n",
    "\n",
    "Phew!!\n",
    "\n",
    "You're probably guessing that this is going to correspond to a normal-Wishart($\\mu_c, \\Lambda_c|m_c, \\beta_c, W_c,  \\nu_c)$  distribution, and you'd be right. What are the parameters of this distribution?\n",
    "\n",
    "* $\\nu_c = \\nu + \\tilde{\\gamma}_c$\n",
    "* $W_c^{-1} = W^{-1} +  \\frac{\\beta\\tilde{\\gamma}_c}{\\beta+\\tilde{\\gamma}_c}\\left(\\frac{\\tilde{x}_c}{\\tilde{\\gamma}_c} - \\mu_0\\right)\\left(\\frac{\\tilde{x}_c}{\\tilde{\\gamma}_c} - \\mu_0\\right)^T + \\sum_i \\gamma_{i,c}\\left(x_i-\\frac{\\tilde{x}_c}{\\tilde{\\gamma}_c}\\right)\\left(x_i-\\frac{\\tilde{x}_c}{\\tilde{\\gamma}_c}\\right)^T$\n",
    "* $\\beta_c = \\beta + \\tilde{\\gamma}_c$\n",
    "* $ m_c = \\frac{\\beta \\mu_0 + \\tilde{x}_c}{\\beta+\\tilde{\\gamma}_c}$"
   ]
  },
  {
   "cell_type": "markdown",
   "metadata": {},
   "source": [
    "## Finish off by adding in $\\mathbb{E}_{\\{q(\\mu_c, \\Lambda_c)\\}}\\left[\\log | \\Lambda_c |\\right]$ and $\\mathbb{E}_{q(\\pi)}\\left[\\log \\pi\\right]$\n",
    "\n",
    "You've done a lot of math, so here's the results you need:\n",
    "\n",
    "* If $x\\sim \\text{Dirichlet}(\\alpha)$, then $\\mathbb{E}[\\log(x_k)] = \\psi(\\alpha_k) - \\psi(\\sum_j\\alpha_j)$, where $\\psi$ is the digamma function \n",
    "* If $\\Lambda \\sim \\text{Wishart}(W, \\nu)$ where $W$ is $D\\times D$, then $\\mathbb{E}\\left[\\log |\\Lambda|\\right] = \\psi_D\\left(\\frac{\\nu}{2}\\right) + D\\log(2) + \\log |W|$, where $\\psi_D$ is a multivariate digamma function\n",
    "\n",
    "We have:\n",
    "\n",
    "$$\\begin{aligned}\\mathbb{E}_{q(\\mu_c), q(\\Lambda_c)}\\left[(x-\\mu_c)^T\\Lambda_c(x-\\mu_c)\\right] =& \\mathbb{E}_{q(\\Lambda_c)}\\left[(x_i-m_c)^T\\Lambda_c(x_i-m_c) + Tr\\left(\\Lambda (\\beta^{-1}\\Lambda^{-1})\\right)\\right]\\\\\n",
    "=& \\mathbb{E}_{q(\\Lambda_c)}\\left[(x_i-m_c)^T\\Lambda_c(x_i-m_c)\\right] + \\frac{D}{\\beta_c}\\\\\n",
    "=& \\nu_c(x_i-m_c)^TW_c(x_i-m_c) + \\frac{D}{\\beta_c}\n",
    "\\end{aligned}$$\n",
    "\n",
    "so, \n",
    "\n",
    "$$\\begin{aligned}\n",
    "\\gamma_{i,c} \\propto& \\exp\\left\\{\\frac{1}{2}\\mathbb{E}_{\\{q( \\Lambda_c)\\}}\\left[\\log | \\Lambda_c |\\right]- \\frac{1}{2}\\mathbb{E}_{q(\\mu_c, \\Lambda_c)}\\left[(x-\\mu_c)^T\\Lambda_c(x-\\mu_c)\\right] + \\log \\mathbb{E}_{q(\\pi)}\\log \\pi \\right\\}\\\\\n",
    "=& \\exp\\left\\{\\frac{1}{2}\\left(\\psi_D\\left(\\frac{\\nu_c}{2}\\right) + \\log|W_c| + \\nu_c(x_i-m_c)^TW_c(x_i-m_c) + \\frac{D}{\\beta_c}\\right) + \\psi\\left(\\tau_c\\right) - \\psi\\left(\\sum_c\\tau_c\\right) \\right\\}\n",
    "\\end{aligned}$$\n",
    "\n",
    "\n",
    "## Note... you could have saved a bit of time if you know your exponential family relationships... you'll notice a lot of these steps look like the derivation of the posterior of a Normal-Wishart distribution"
   ]
  },
  {
   "cell_type": "markdown",
   "metadata": {},
   "source": [
    "## Now let's code it up!\n",
    "\n",
    "(I haven't included the elbo for this one, but feel free to add it)\n"
   ]
  },
  {
   "cell_type": "code",
   "execution_count": 14,
   "metadata": {},
   "outputs": [],
   "source": [
    "def multidigamma(a, d):\n",
    "    \"\"\"\n",
    "    Returns the derivative of the log of multivariate gamma.\n",
    "    \"\"\"\n",
    "    f = 0.\n",
    "    for i in range(1, d+1):\n",
    "        f += digamma((a+1.-i)/2.)\n",
    "    return f\n",
    "\n",
    "\n",
    "def VBayes_2(data, num_clusters=2, alpha=1., mu0=np.array([0., 0.]), beta=1., nu=3, W=np.eye(2), num_iters=100):\n",
    "    # assuming symmetric dirichlet prior, alpha_k = alpha for all k\n",
    "    N, D = data.shape\n",
    "    \n",
    "    invW = np.linalg.inv(W)\n",
    "    # some initializations\n",
    "    \n",
    "    tau = np.ones(num_clusters)\n",
    "    gammas = np.random.rand(N, num_clusters)\n",
    "    gammas = gammas / np.expand_dims(np.sum(gammas, 1), 1)\n",
    "    \n",
    "    m_c = {} \n",
    "    beta_c = {}\n",
    "    W_c = {}\n",
    "    nu_c = {}\n",
    "    for cluster in range(num_clusters):\n",
    "        nu_c[cluster] = nu\n",
    "        W_c[cluster] = np.eye(D)\n",
    "        beta_c[cluster] = 1.\n",
    "        m_c[cluster] = np.random.multivariate_normal(mu0, W_c[cluster])\n",
    "\n",
    "    for i in range(num_iters):\n",
    "        \n",
    "        log_gammas = np.zeros((N, num_clusters))\n",
    "        for cluster in range(num_clusters):\n",
    "            E_ln_pi = digamma(tau[cluster]) - digamma(np.sum(tau))\n",
    "            E_ln_det_Lam = multidigamma(nu_c[cluster]/2, D) + D * np.log(2) + slogdet(W_c[cluster])[1]\n",
    "            for n in range(N):\n",
    "                log_gammas[n, cluster] = log_gammas[n, cluster] - 0.5*nu_c[cluster] * np.dot(data[n, :] - m_c[cluster], np.dot(W_c[cluster],data[n, :] - m_c[cluster] ))\n",
    "            \n",
    "            log_gammas[:, cluster] = log_gammas[:, cluster] + 0.5*E_ln_det_Lam + E_ln_pi - D/(2*beta_c[cluster])\n",
    "            \n",
    "        ll = logsumexp(log_gammas, 1)\n",
    "        log_gammas = log_gammas - np.expand_dims(ll, 1)\n",
    "        gammas = np.exp(log_gammas)\n",
    "        \n",
    "        gamma_tilde = np.sum(gammas, 0)\n",
    "        \n",
    "        tau = alpha*np.ones(num_clusters) + np.sum(gamma_tilde, 0)\n",
    "        \n",
    "        for cluster in range(num_clusters):\n",
    "            \n",
    "            Nc = np.sum(gammas[:, cluster])\n",
    "            xbar_c = np.dot(gammas[:, cluster], data) / Nc\n",
    "            Sc = 0\n",
    "            for n in range(N):\n",
    "                Sc += gammas[n, cluster] * np.outer(data[n, :] - xbar_c, data[n, :] - xbar_c)\n",
    "            Sc = Sc / Nc\n",
    "            \n",
    "            x_tilde_c = np.dot(gammas[:, cluster], data)\n",
    "            r_c = x_tilde_c / gamma_tilde[cluster]\n",
    "            beta_c[cluster] = beta + gamma_tilde[cluster]\n",
    "            m_c[cluster] = (beta*mu0 + x_tilde_c)/(beta + gamma_tilde[cluster])\n",
    "            nu_c[cluster] = nu + gamma_tilde[cluster]\n",
    "            \n",
    "            W_c_inv = invW +(beta*gamma_tilde[cluster]/(beta+gamma_tilde[cluster])) * np.outer((r_c - mu0), r_c - mu0)\n",
    "            \n",
    "            W_c_inv_alt = invW + Nc*Sc + ((beta*Nc)/(beta+Nc))*np.outer(xbar_c-mu0, xbar_c-mu0)\n",
    "            \n",
    "            for n in range(N):\n",
    "                W_c_inv += gammas[n, cluster] * np.outer(data[n, :] - r_c, data[n, :] - r_c)\n",
    "\n",
    "            W_c[cluster] = np.linalg.inv(W_c_inv)\n",
    "          \n",
    "    return gammas, tau, m_c, beta_c, W_c, nu_c"
   ]
  },
  {
   "cell_type": "code",
   "execution_count": 15,
   "metadata": {},
   "outputs": [
    {
     "data": {
      "image/png": "[encoded data removed]",
      "text/plain": [
       "<Figure size 432x288 with 1 Axes>"
      ]
     },
     "metadata": {
      "needs_background": "light"
     },
     "output_type": "display_data"
    }
   ],
   "source": [
    "gammas, tau, m_c, beta_c, W_c, nu_c = VBayes_2(data_standardized, num_clusters=2, alpha=1., mu0=np.array([0., 0.]), beta=1., nu=3, W=np.eye(2))\n",
    "plot_clusters(data, gammas)"
   ]
  },
  {
   "cell_type": "code",
   "execution_count": null,
   "metadata": {},
   "outputs": [],
   "source": []
  }
 ],
 "metadata": {
  "kernelspec": {
   "display_name": "pytorch",
   "language": "python",
   "name": "pytorch"
  },
  "language_info": {
   "codemirror_mode": {
    "name": "ipython",
    "version": 3
   },
   "file_extension": ".py",
   "mimetype": "text/x-python",
   "name": "python",
   "nbconvert_exporter": "python",
   "pygments_lexer": "ipython3",
   "version": "3.8.2"
  }
 },
 "nbformat": 4,
 "nbformat_minor": 4
}
